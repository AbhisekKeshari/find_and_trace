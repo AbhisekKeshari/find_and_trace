{
 "cells": [
  {
   "cell_type": "code",
   "execution_count": 1,
   "metadata": {},
   "outputs": [],
   "source": [
    "# importing libraries\n",
    "import pandas as pd\n",
    "import warnings\n",
    "import os\n",
    "from google.cloud import bigquery\n",
    "import pandas as pd\n",
    "from tqdm import tqdm\n",
    "import numpy as np\n",
    "import datetime\n",
    "from datetime import date\n",
    "import re\n",
    "import json\n",
    "import tracemalloc\n",
    "from google.cloud import storage\n",
    "import pandasql as ps\n",
    "import warnings\n",
    "import Levenshtein as lev\n",
    "import haversine as hs"
   ]
  },
  {
   "cell_type": "code",
   "execution_count": 2,
   "metadata": {},
   "outputs": [],
   "source": [
    "warnings.simplefilter('ignore')\n",
    "# adding bigquery json key to the os GOOGLE_APPLICATION_CREDENTIALS\n",
    "os.environ[\"GOOGLE_APPLICATION_CREDENTIALS\"]=\"/Users/akivirus/Desktop/Project/BQ_queries/keys/key.json\""
   ]
  },
  {
   "cell_type": "code",
   "execution_count": 3,
   "metadata": {},
   "outputs": [
    {
     "name": "stdout",
     "output_type": "stream",
     "text": [
      "Fetching Data from BigQuery Table.\n"
     ]
    },
    {
     "name": "stderr",
     "output_type": "stream",
     "text": [
      "100%|██████████| 198026/198026 [00:02<00:00, 94799.31it/s]\n"
     ]
    }
   ],
   "source": [
    "print(\"Fetching Data from BigQuery Table.\")\n",
    "bq_client = bigquery.Client()\n",
    "query = \"\"\"\n",
    "\n",
    "# Select Phone\n",
    "#   FROM `Zoho_CRM_Cleanup.ds_temp_enriched_leads_28Apr23` Z\n",
    "#   Where Z.State is null or Z.State like ''\n",
    "\n",
    "Select Phone\n",
    "  FROM `Zoho_CRM_Cleanup.ds_temp_enriched_leads_28Apr23` Z\n",
    "  Where Z.State is not null\n",
    "\n",
    "# with comp4 as (\n",
    "#   select substr(cast(phone_number as string), 3) as phone_num from `merapashu360-buyer-app.ds_competitor_4.ds_comp4_leads_fulldump_v2`\n",
    "# ),\n",
    "\n",
    "# contact_details as (\n",
    "#   select phone_num from `merapashu360-buyer-app.ds_customer_analytics.ds_contacts_location_via_phonenum`\n",
    "# )\n",
    "\n",
    "# select \n",
    "# distinct * \n",
    "# from \n",
    "# (select * from comp4\n",
    "# except distinct\n",
    "# select * from contact_details)\n",
    "\n",
    "\"\"\"\n",
    "data = bq_client.query(query).result()\n",
    "data_df = pd.DataFrame(data)\n",
    "data_list = []\n",
    "for i in tqdm(range(len(data_df))):\n",
    "    data_list.append(list(data_df.iloc[i,0]))\n",
    "col_headers = [field.name for field in data.schema]\n",
    "df_bq = pd.DataFrame(data_list, columns=col_headers)\n"
   ]
  },
  {
   "cell_type": "code",
   "execution_count": 4,
   "metadata": {},
   "outputs": [],
   "source": [
    "df_bq.columns = ['phone_num']\n",
    "df_bq.to_csv( './csv_data/zoho_crm_data_cleanup_validate.csv',index=False)"
   ]
  },
  {
   "cell_type": "code",
   "execution_count": null,
   "metadata": {},
   "outputs": [],
   "source": []
  }
 ],
 "metadata": {
  "kernelspec": {
   "display_name": "mp360",
   "language": "python",
   "name": "python3"
  },
  "language_info": {
   "codemirror_mode": {
    "name": "ipython",
    "version": 3
   },
   "file_extension": ".py",
   "mimetype": "text/x-python",
   "name": "python",
   "nbconvert_exporter": "python",
   "pygments_lexer": "ipython3",
   "version": "3.10.5"
  },
  "orig_nbformat": 4
 },
 "nbformat": 4,
 "nbformat_minor": 2
}
